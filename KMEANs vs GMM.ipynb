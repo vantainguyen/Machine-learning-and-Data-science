{
 "cells": [
  {
   "cell_type": "markdown",
   "metadata": {},
   "source": [
    "This study aims to compare the performance of two unsupervised machine learning models: Kmeans clustering and Guassian mixture model (GMM).\n",
    "Little walk on the theories behind these two machine learning models:\n",
    "KMeans model is based on the minimization of the Euclidean distance between the data points and its cluster centroid.\n",
    "GMM is based on the maximization of the log likelihood function of the probability of the data points to belong to a cluster represented by its mean and covariance.\n",
    "The KMeans is good if the data distribution is likely to be in a circle which can be not accurate for other cases; on the other hand, GMM performs well for any given datasets."
   ]
  },
  {
   "cell_type": "code",
   "execution_count": 10,
   "metadata": {},
   "outputs": [],
   "source": [
    "import os\n",
    "\n",
    "filename_path = os.path.abspath('./Python_training')\n",
    "\n",
    "filename = os.path.join(filename_path,'Clustering_gmm.csv')"
   ]
  },
  {
   "cell_type": "code",
   "execution_count": 19,
   "metadata": {},
   "outputs": [
    {
     "name": "stdout",
     "output_type": "stream",
     "text": [
      "C:\\Users\\Van Tai Nguyen\n"
     ]
    }
   ],
   "source": [
    "cd "
   ]
  },
  {
   "cell_type": "code",
   "execution_count": 26,
   "metadata": {},
   "outputs": [
    {
     "name": "stdout",
     "output_type": "stream",
     "text": [
      "C:\\Users\\Van Tai Nguyen\\Desktop\\Python_training\n"
     ]
    }
   ],
   "source": [
    "cd C:\\Users\\Van Tai Nguyen\\Desktop\\Python_training"
   ]
  },
  {
   "cell_type": "code",
   "execution_count": 27,
   "metadata": {},
   "outputs": [
    {
     "name": "stdout",
     "output_type": "stream",
     "text": [
      " Volume in drive C is Windows\n",
      " Volume Serial Number is C81E-8626\n",
      "\n",
      " Directory of C:\\Users\\Van Tai Nguyen\\Desktop\\Python_training\n",
      "\n",
      "19/10/2020  09:50 AM    <DIR>          .\n",
      "19/10/2020  09:50 AM    <DIR>          ..\n",
      "08/09/2019  02:09 PM            50,252 Cambridge English Empower Elementary A2 PDF.jpg\n",
      "08/09/2019  02:10 PM         3,829,760 cambridge-english-empower-elementary-a2_03b4a9563.iso\n",
      "08/09/2019  02:10 PM         3,221,534 cambridge-english-empower-elementary-a2_03b4a9563.zip\n",
      "19/10/2020  09:45 AM            18,385 Clustering_gmm.csv.csv\n",
      "08/09/2019  03:49 PM    <DIR>          Empower_A2_Elementary_Class_Audio_www.frenglish.ru\n",
      "07/09/2019  05:43 PM       134,791,694 Empower_A2_Elementary_Class_Audio_www.frenglish.ru.rar\n",
      "08/07/2019  08:58 PM         3,401,248 libcrypto-1_1.dll\n",
      "08/07/2019  08:58 PM           688,160 libssl-1_1.dll\n",
      "08/07/2019  08:54 PM            13,023 LICENSE.txt\n",
      "05/09/2019  07:54 PM           529,103 medicare-application.pdf\n",
      "19/07/2020  03:38 PM         4,924,029 ml-100k.zip\n",
      "19/07/2020  03:39 PM         5,917,549 ml-1m.zip\n",
      "25/05/2019  06:00 PM                 0 PASSWORD 1234\n",
      "24/08/2019  11:44 PM         1,181,568 putty.exe\n",
      "08/07/2019  10:05 PM           200,208 pyexpat.pyd\n",
      "08/07/2019  10:06 PM            99,856 python.exe\n",
      "05/08/2019  11:33 PM        25,663,848 python-3.7.4 (1).exe\n",
      "05/08/2019  11:31 PM        25,663,848 python-3.7.4.exe\n",
      "16/09/2019  10:03 PM         7,504,391 python-3.7.4-embed-amd64.zip\n",
      "08/07/2019  10:05 PM            58,896 python3.dll\n",
      "08/07/2019  10:11 PM                79 python37._pth\n",
      "08/07/2019  10:04 PM         3,748,368 python37.dll\n",
      "08/07/2019  10:06 PM            98,320 pythonw.exe\n",
      "08/07/2019  10:05 PM            26,640 select.pyd\n",
      "08/07/2019  10:06 PM         1,272,848 sqlite3.dll\n",
      "08/08/2019  01:28 PM         3,891,291 Thi-Dung_Form-81.pdf\n",
      "08/08/2019  07:40 PM         3,891,291 Thi-Dung_Form-82.pdf\n",
      "08/08/2019  01:09 PM         3,230,288 Trinh Dung_Form 80.pdf\n",
      "08/07/2019  10:05 PM         1,072,656 unicodedata.pyd\n",
      "22/05/2019  11:02 PM            85,232 vcruntime140.dll\n",
      "08/07/2019  10:05 PM            28,688 winsound.pyd\n",
      "              30 File(s)    235,103,053 bytes\n",
      "               3 Dir(s)  21,733,126,144 bytes free\n"
     ]
    }
   ],
   "source": [
    "ls"
   ]
  },
  {
   "cell_type": "code",
   "execution_count": 70,
   "metadata": {},
   "outputs": [],
   "source": [
    "import pandas as pd\n",
    "data = pd.read_csv('Clustering_gmm.csv.csv')"
   ]
  },
  {
   "cell_type": "code",
   "execution_count": 31,
   "metadata": {},
   "outputs": [
    {
     "data": {
      "text/plain": [
       "<matplotlib.collections.PathCollection at 0x1e9ab8b3708>"
      ]
     },
     "execution_count": 31,
     "metadata": {},
     "output_type": "execute_result"
    },
    {
     "data": {
      "image/png": "[encoded data removed]",
      "text/plain": [
       "<Figure size 432x288 with 1 Axes>"
      ]
     },
     "metadata": {
      "needs_background": "light"
     },
     "output_type": "display_data"
    }
   ],
   "source": [
    "import matplotlib.pyplot as plt\n",
    "plt.scatter(data['Weight'],data['Height'])"
   ]
  },
  {
   "cell_type": "code",
   "execution_count": 32,
   "metadata": {},
   "outputs": [],
   "source": [
    "# Importing the Kmeans model\n",
    "from sklearn.cluster import KMeans"
   ]
  },
  {
   "cell_type": "code",
   "execution_count": 34,
   "metadata": {},
   "outputs": [
    {
     "name": "stdout",
     "output_type": "stream",
     "text": [
      "Initialization complete\n",
      "Iteration 0, inertia 1338.8753519183676\n",
      "Iteration 1, inertia 1161.9522278545464\n",
      "Iteration 2, inertia 1140.329076610549\n",
      "Iteration 3, inertia 1134.4454679346145\n",
      "Converged at iteration 3: center shift 0.00033994346767404423 within tolerance 0.002499864940648523.\n",
      "Initialization complete\n",
      "Iteration 0, inertia 1680.0453530404038\n",
      "Iteration 1, inertia 1169.3423667437053\n",
      "Iteration 2, inertia 1147.4985068069716\n",
      "Iteration 3, inertia 1137.3824043045881\n",
      "Iteration 4, inertia 1134.6670421440888\n",
      "Converged at iteration 4: center shift 0.002116611370798492 within tolerance 0.002499864940648523.\n",
      "Initialization complete\n",
      "Iteration 0, inertia 2097.5241631407353\n",
      "Iteration 1, inertia 1151.3769435419422\n",
      "Iteration 2, inertia 1138.1357391682916\n",
      "Iteration 3, inertia 1134.6670421440888\n",
      "Converged at iteration 3: center shift 0.002116611370798492 within tolerance 0.002499864940648523.\n",
      "Initialization complete\n",
      "Iteration 0, inertia 1492.1347680993447\n",
      "Iteration 1, inertia 1244.3255961179777\n",
      "Iteration 2, inertia 1172.7936127638902\n",
      "Iteration 3, inertia 1151.199099184598\n",
      "Iteration 4, inertia 1142.708562484772\n",
      "Iteration 5, inertia 1136.5614994232762\n",
      "Iteration 6, inertia 1135.8282782084343\n",
      "Converged at iteration 6: center shift 0.0008043635175457712 within tolerance 0.002499864940648523.\n",
      "Initialization complete\n",
      "Iteration 0, inertia 1654.315838766041\n",
      "Iteration 1, inertia 1240.8971775006776\n",
      "Iteration 2, inertia 1154.65335199956\n",
      "Iteration 3, inertia 1137.6929131387444\n",
      "Iteration 4, inertia 1136.0232415328999\n",
      "Converged at iteration 4: center shift 0.002396195370253764 within tolerance 0.002499864940648523.\n",
      "Initialization complete\n",
      "Iteration 0, inertia 1459.4663173132735\n",
      "Iteration 1, inertia 1148.824111120555\n",
      "Iteration 2, inertia 1136.4831335191795\n",
      "Iteration 3, inertia 1134.433169239346\n",
      "Converged at iteration 3: center shift 1.56003893615623e-05 within tolerance 0.002499864940648523.\n",
      "Initialization complete\n",
      "Iteration 0, inertia 2077.463100555605\n",
      "Iteration 1, inertia 1194.4031456740884\n",
      "Iteration 2, inertia 1151.193916050366\n",
      "Iteration 3, inertia 1142.3021542815145\n",
      "Iteration 4, inertia 1136.2838345871833\n",
      "Iteration 5, inertia 1135.7288508997456\n",
      "Converged at iteration 5: strict convergence.\n",
      "Initialization complete\n",
      "Iteration 0, inertia 1429.363761634261\n",
      "Iteration 1, inertia 1159.285045725137\n",
      "Iteration 2, inertia 1141.4475784995248\n",
      "Iteration 3, inertia 1134.93961347801\n",
      "Iteration 4, inertia 1134.403403842227\n",
      "Converged at iteration 4: strict convergence.\n",
      "Initialization complete\n",
      "Iteration 0, inertia 1763.127951048081\n",
      "Iteration 1, inertia 1489.8371847715296\n",
      "Iteration 2, inertia 1484.0188608447843\n",
      "Iteration 3, inertia 1480.3445622612571\n",
      "Iteration 4, inertia 1476.8514680088638\n",
      "Iteration 5, inertia 1467.347319546953\n",
      "Iteration 6, inertia 1450.0552071298619\n",
      "Iteration 7, inertia 1442.1018469275305\n",
      "Iteration 8, inertia 1439.2501908928161\n",
      "Iteration 9, inertia 1435.4799343129691\n",
      "Iteration 10, inertia 1433.957257523463\n",
      "Iteration 11, inertia 1433.1936235661287\n",
      "Iteration 12, inertia 1431.4625571066701\n",
      "Iteration 13, inertia 1422.0484187143263\n",
      "Iteration 14, inertia 1405.7633503231473\n",
      "Iteration 15, inertia 1357.4539423187405\n",
      "Iteration 16, inertia 1291.0394994542937\n",
      "Iteration 17, inertia 1202.2347037854215\n",
      "Iteration 18, inertia 1160.0057349809113\n",
      "Iteration 19, inertia 1148.0218598619101\n",
      "Iteration 20, inertia 1139.8306863841942\n",
      "Iteration 21, inertia 1135.9990349524453\n",
      "Converged at iteration 21: center shift 0.0021809913952518527 within tolerance 0.002499864940648523.\n",
      "Initialization complete\n",
      "Iteration 0, inertia 2402.527534671207\n",
      "Iteration 1, inertia 1164.872144642032\n",
      "Iteration 2, inertia 1148.030760009441\n",
      "Iteration 3, inertia 1141.3911049314966\n",
      "Iteration 4, inertia 1136.2838345871833\n",
      "Iteration 5, inertia 1135.7288508997456\n",
      "Converged at iteration 5: strict convergence.\n"
     ]
    },
    {
     "data": {
      "text/plain": [
       "KMeans(n_clusters=4, verbose=1)"
      ]
     },
     "execution_count": 34,
     "metadata": {},
     "output_type": "execute_result"
    }
   ],
   "source": [
    "# Determine the kmeans model parameters and fitting data\n",
    "kmeans = KMeans(n_clusters = 4, verbose = 1)\n",
    "kmeans.fit(data)"
   ]
  },
  {
   "cell_type": "code",
   "execution_count": 35,
   "metadata": {},
   "outputs": [],
   "source": [
    "# Predicting the results\n",
    "clusters = kmeans.predict(data)"
   ]
  },
  {
   "cell_type": "code",
   "execution_count": 38,
   "metadata": {},
   "outputs": [],
   "source": [
    "data['clusters'] = clusters"
   ]
  },
  {
   "cell_type": "code",
   "execution_count": 43,
   "metadata": {},
   "outputs": [
    {
     "data": {
      "text/plain": [
       "Text(0.5, 1.0, 'Data distribution')"
      ]
     },
     "execution_count": 43,
     "metadata": {},
     "output_type": "execute_result"
    },
    {
     "data": {
      "image/png": "[encoded data removed]",
      "text/plain": [
       "<Figure size 288x288 with 1 Axes>"
      ]
     },
     "metadata": {
      "needs_background": "light"
     },
     "output_type": "display_data"
    }
   ],
   "source": [
    "# Plotting the results\n",
    "colors = ['green', 'blue', 'cyan', 'black']\n",
    "figure = plt.figure(figsize = (4,4))\n",
    "for clus in range(0,4):\n",
    "    data_plot = data[data['clusters']==clus]\n",
    "    plt.scatter(data_plot['Weight'], data_plot['Height'], c = colors[clus])\n",
    "    \n",
    "plt.xlabel('Weight')\n",
    "plt.ylabel('Height')\n",
    "plt.title('Data distribution')"
   ]
  },
  {
   "cell_type": "markdown",
   "metadata": {},
   "source": [
    "As depicted in the above figure the Kmeans model fails to classify the middle two clusters.\n",
    "Let now try on the Guassian mixture model (GMM)"
   ]
  },
  {
   "cell_type": "code",
   "execution_count": 47,
   "metadata": {},
   "outputs": [],
   "source": [
    "# Importing the GMM\n",
    "from sklearn.mixture import GaussianMixture "
   ]
  },
  {
   "cell_type": "code",
   "execution_count": 72,
   "metadata": {},
   "outputs": [],
   "source": [
    "# Assigning parameters to the GMM\n",
    "GMM = GaussianMixture(n_components = 4, verbose = 1)"
   ]
  },
  {
   "cell_type": "code",
   "execution_count": 73,
   "metadata": {},
   "outputs": [
    {
     "data": {
      "text/html": [
       "<div>\n",
       "<style scoped>\n",
       "    .dataframe tbody tr th:only-of-type {\n",
       "        vertical-align: middle;\n",
       "    }\n",
       "\n",
       "    .dataframe tbody tr th {\n",
       "        vertical-align: top;\n",
       "    }\n",
       "\n",
       "    .dataframe thead th {\n",
       "        text-align: right;\n",
       "    }\n",
       "</style>\n",
       "<table border=\"1\" class=\"dataframe\">\n",
       "  <thead>\n",
       "    <tr style=\"text-align: right;\">\n",
       "      <th></th>\n",
       "      <th>Weight</th>\n",
       "      <th>Height</th>\n",
       "    </tr>\n",
       "  </thead>\n",
       "  <tbody>\n",
       "    <tr>\n",
       "      <th>0</th>\n",
       "      <td>67.062924</td>\n",
       "      <td>176.086355</td>\n",
       "    </tr>\n",
       "    <tr>\n",
       "      <th>1</th>\n",
       "      <td>68.804094</td>\n",
       "      <td>178.388669</td>\n",
       "    </tr>\n",
       "    <tr>\n",
       "      <th>2</th>\n",
       "      <td>60.930863</td>\n",
       "      <td>170.284496</td>\n",
       "    </tr>\n",
       "    <tr>\n",
       "      <th>3</th>\n",
       "      <td>59.733843</td>\n",
       "      <td>168.691992</td>\n",
       "    </tr>\n",
       "    <tr>\n",
       "      <th>4</th>\n",
       "      <td>65.431230</td>\n",
       "      <td>173.763679</td>\n",
       "    </tr>\n",
       "  </tbody>\n",
       "</table>\n",
       "</div>"
      ],
      "text/plain": [
       "      Weight      Height\n",
       "0  67.062924  176.086355\n",
       "1  68.804094  178.388669\n",
       "2  60.930863  170.284496\n",
       "3  59.733843  168.691992\n",
       "4  65.431230  173.763679"
      ]
     },
     "execution_count": 73,
     "metadata": {},
     "output_type": "execute_result"
    }
   ],
   "source": [
    "data.head()"
   ]
  },
  {
   "cell_type": "code",
   "execution_count": 74,
   "metadata": {},
   "outputs": [
    {
     "name": "stdout",
     "output_type": "stream",
     "text": [
      "Initialization 0\n",
      "  Iteration 10\n",
      "Initialization converged: True\n"
     ]
    },
    {
     "data": {
      "text/plain": [
       "GaussianMixture(n_components=4, verbose=1)"
      ]
     },
     "execution_count": 74,
     "metadata": {},
     "output_type": "execute_result"
    }
   ],
   "source": [
    "GMM.fit(data)"
   ]
  },
  {
   "cell_type": "code",
   "execution_count": 75,
   "metadata": {},
   "outputs": [],
   "source": [
    "# Prediction \n",
    "preds = GMM.predict(data)\n",
    "data['clusters_gmm'] = preds"
   ]
  },
  {
   "cell_type": "code",
   "execution_count": 76,
   "metadata": {},
   "outputs": [
    {
     "data": {
      "text/plain": [
       "Text(0.5, 1.0, 'Data distribution with GMM classification')"
      ]
     },
     "execution_count": 76,
     "metadata": {},
     "output_type": "execute_result"
    },
    {
     "data": {
      "image/png": "[encoded data removed]",
      "text/plain": [
       "<Figure size 288x288 with 1 Axes>"
      ]
     },
     "metadata": {
      "needs_background": "light"
     },
     "output_type": "display_data"
    }
   ],
   "source": [
    "# Plotting\n",
    "figure_1 = plt.figure(figsize = (4,4))\n",
    "for num in range(0,4):\n",
    "    data_plot = data[data['clusters_gmm'] == num]\n",
    "    plt.scatter(data_plot['Weight'], data_plot['Height'], c = colors[num])\n",
    "plt.xlabel('Weight')\n",
    "plt.ylabel('Height')\n",
    "plt.title('Data distribution with GMM classification')"
   ]
  },
  {
   "cell_type": "markdown",
   "metadata": {},
   "source": [
    "The above figure shows that the GMM model classifies the data more precisely than the Kmeans model"
   ]
  }
 ],
 "metadata": {
  "kernelspec": {
   "display_name": "Python 3",
   "language": "python",
   "name": "python3"
  },
  "language_info": {
   "codemirror_mode": {
    "name": "ipython",
    "version": 3
   },
   "file_extension": ".py",
   "mimetype": "text/x-python",
   "name": "python",
   "nbconvert_exporter": "python",
   "pygments_lexer": "ipython3",
   "version": "3.7.4"
  }
 },
 "nbformat": 4,
 "nbformat_minor": 4
}
